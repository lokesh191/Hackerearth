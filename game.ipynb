{
 "cells": [
  {
   "cell_type": "code",
   "execution_count": null,
   "metadata": {},
   "outputs": [
    {
     "name": "stdout",
     "output_type": "stream",
     "text": [
      "welcomne to the game\n"
     ]
    }
   ],
   "source": [
    "print(\"welcomne to the game\")\n",
    "from random import randint\n",
    "t=[\"rock\",\"paper\",\"scissor\"]\n",
    "computer = t[randint(0,2)]\n",
    "a=input(\"enter your name =\")\n",
    "print(a,\"choose from rock paper scissor\")\n",
    "d=input(\"enter your choice =\")\n",
    "print(\"computer choose =\",computer)\n",
    "if(d==computer):\n",
    "    print(\"its a tie\")\n",
    "elif(d=='rock'):\n",
    "    if(computer=='paper'):\n",
    "        print(\"paper wins\")\n",
    "    else:\n",
    "        print(\"rock wins\")\n",
    "elif(d=='paper'):\n",
    "    if(computer=='rock'):\n",
    "        print(\"rock wins\")\n",
    "    else:\n",
    "        print(\"scisssor wins\")\n",
    "elif(d=='scissor'):\n",
    "    if(computer=='paper'):\n",
    "        print(\"scissor wins\")\n",
    "    else:\n",
    "        print(\"rock wins\")\n",
    "else:\n",
    "    print(\"wrong choice\")\n",
    "    "
   ]
  },
  {
   "cell_type": "code",
   "execution_count": null,
   "metadata": {},
   "outputs": [],
   "source": [
    "a=input(\"enter the string to be checked\")\n",
    "s=a[::-1]\n",
    "if(s==a):\n",
    "    print(\"its a palindrome\")\n",
    "else:\n",
    "    print(\"its not a palindrome\")"
   ]
  },
  {
   "cell_type": "code",
   "execution_count": null,
   "metadata": {},
   "outputs": [],
   "source": [
    "p=open('abc.txt','r+')\n",
    "p.write(\" Lokesh\")\n",
    "p.close()\n",
    "r=open('abc.txt')\n",
    "print(p.read())"
   ]
  },
  {
   "cell_type": "code",
   "execution_count": null,
   "metadata": {},
   "outputs": [],
   "source": [
    "pwd"
   ]
  },
  {
   "cell_type": "code",
   "execution_count": null,
   "metadata": {},
   "outputs": [],
   "source": [
    "r=open('C:/users/shashank/Desktop/abc.txt','r+')\n",
    "r.read()"
   ]
  },
  {
   "cell_type": "code",
   "execution_count": null,
   "metadata": {},
   "outputs": [],
   "source": [
    "r=open('D:/Anky/lokes.txt','x')\n",
    "r.close()\n",
    "r=open('D:/Anky/lokes.txt','a')\n",
    "r.write(\"LOkesh chandravanshi\")\n",
    "r.close()\n",
    "r=open('D:/Anky/lokes.txt')\n",
    "r.read()"
   ]
  },
  {
   "cell_type": "code",
   "execution_count": null,
   "metadata": {},
   "outputs": [],
   "source": [
    "import os\n",
    "os.remove('D:/Anky/lokesh.txt')"
   ]
  },
  {
   "cell_type": "code",
   "execution_count": null,
   "metadata": {},
   "outputs": [],
   "source": [
    "r=open('D:/Anky/lokesh.txt')\n",
    "print(r.readlines())"
   ]
  },
  {
   "cell_type": "code",
   "execution_count": 1,
   "metadata": {},
   "outputs": [
    {
     "name": "stdout",
     "output_type": "stream",
     "text": [
      "Enter the valueslokesh\n",
      "invalid literal for int() with base 10: 'lokesh'\n"
     ]
    }
   ],
   "source": [
    "try:\n",
    "    a=int(input(\"Enter the values\"))\n",
    "    print(\"The value you entered = \",a)\n",
    "except ValueError as err:\n",
    "    print(err)"
   ]
  },
  {
   "cell_type": "code",
   "execution_count": null,
   "metadata": {},
   "outputs": [],
   "source": []
  }
 ],
 "metadata": {
  "kernelspec": {
   "display_name": "Python 3",
   "language": "python",
   "name": "python3"
  },
  "language_info": {
   "codemirror_mode": {
    "name": "ipython",
    "version": 3
   },
   "file_extension": ".py",
   "mimetype": "text/x-python",
   "name": "python",
   "nbconvert_exporter": "python",
   "pygments_lexer": "ipython3",
   "version": "3.7.3"
  }
 },
 "nbformat": 4,
 "nbformat_minor": 2
}
